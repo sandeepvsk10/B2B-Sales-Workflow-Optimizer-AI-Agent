{
 "cells": [
  {
   "cell_type": "markdown",
   "metadata": {},
   "source": [
    "# B2B Sales AI Agent - Sales Workflow Optimizer\n",
    "\n",
    "An AI-powered B2B sales assistant that analyzes customer calls, extracts key insights, and automates follow-up actions to accelerate deal cycles."
   ]
  },
  {
   "cell_type": "markdown",
   "metadata": {},
   "source": [
    "## Overview\n",
    "\n",
    "- This tutorial and notebook file is aimed at showcasing an AI-powered B2B sales assistant that analyzes sales calls, extracts key insights, and automates follow-up actions.  \n",
    "- It demonstrates features like sentiment analysis, competitor detection, and confidence scoring using LLM pipelines.  \n",
    "- The system is orchestrated using **LangGraph, integrating speech-to-text, email automation, and knowledge retrieval workflows**.\n",
    "\n",
    "## Business Value Proposition\n",
    "\n",
    "- Reduce sales follow-up time by 60-80%\n",
    "- Increase competitive win rates through timely responses\n",
    "- Improve deal consistency with standardized processes\n",
    "- Enhance customer experience with hyper-personalized content\n",
    "- Provide management with real-time deal insights\n",
    "\n",
    "**GOAL IS REDUCE THIS TO THIS**\n",
    "\n",
    "<p float=\"left\">\n",
    "  <img src=\"https://www-cms.pipedriveassets.com/futurama-sales-meme.png\" height = \"350\" width=\"300\" />\n",
    "  <img src=\"https://img.freepik.com/premium-vector/green-long-arrow-vector-illustration-eps-10-stock-image_213497-2917.jpg\" width=\"100\" />\n",
    "  <img src=\"https://smartreach.io/blog/wp-content/uploads/2023/12/image-21.jpeg\" height = \"600\" width=\"300\" />\n",
    "</p>"
   ]
  },
  {
   "cell_type": "markdown",
   "metadata": {},
   "source": [
    "# Agent Workflow"
   ]
  },
  {
   "cell_type": "markdown",
   "metadata": {},
   "source": [
    "## Setup"
   ]
  },
  {
   "cell_type": "markdown",
   "metadata": {},
   "source": [
    "### Installing Libraries to Environment"
   ]
  },
  {
   "cell_type": "code",
   "execution_count": 9,
   "metadata": {},
   "outputs": [],
   "source": [
    "#!pip install \"langchain-core<0.3,>=0.1.52\" \"protobuf<5,>=3.20\" langgraph-prebuilt langgraph-sdk langgraph-checkpoint-sqlite langsmith langchain-community langchain-openai typing\n",
    "#!pip install langchain-google-genai\n",
    "\n",
    "#!pip install \"pydantic<2.0\"\n",
    "\n",
    "#!pip install --upgrade langchain-openai"
   ]
  },
  {
   "cell_type": "markdown",
   "metadata": {},
   "source": [
    "### Importing Libraries"
   ]
  },
  {
   "cell_type": "code",
   "execution_count": 12,
   "metadata": {},
   "outputs": [],
   "source": [
    "#pip install --upgrade pydantic"
   ]
  },
  {
   "cell_type": "code",
   "execution_count": 20,
   "metadata": {},
   "outputs": [],
   "source": [
    "import os\n",
    "import pandas as pd\n",
    "from datetime import datetime, timedelta\n",
    "from typing import List, TypedDict\n",
    "from pydantic import BaseModel, Field\n",
    "\n",
    "# LangChain & LangGraph Libraries\n",
    "from langgraph.graph import StateGraph, START, END\n",
    "from langgraph.checkpoint.memory import MemorySaver\n",
    "from IPython.display import Image, display, Markdown, HTML\n",
    "\n",
    "from langchain_openai import ChatOpenAI\n",
    "from langchain_core.prompts import ChatPromptTemplate\n",
    "from langchain import PromptTemplate\n",
    "\n",
    "from langchain_google_genai import ChatGoogleGenerativeAI\n",
    "\n",
    "from typing import Optional\n",
    "from typing import Annotated\n",
    "from operator import add"
   ]
  },
  {
   "cell_type": "markdown",
   "metadata": {},
   "source": [
    "# Setting Up LLM API"
   ]
  },
  {
   "cell_type": "code",
   "execution_count": 16,
   "metadata": {},
   "outputs": [],
   "source": [
    "OPEN_API_KEY = os.environ[\"OPENAI_API_KEY\"]\n",
    "GOOGLE_GEMINI_KEY = os.environ[\"GOOGLE_GEMINI_KEY\"]\n",
    "\n",
    "\n",
    "openai_llm = ChatOpenAI(temperature = 0.3)\n",
    "google_gemini_llm = ChatGoogleGenerativeAI(model=\"gemini-1.5-flash-latest\",google_api_key=GOOGLE_GEMINI_KEY)"
   ]
  },
  {
   "cell_type": "markdown",
   "metadata": {},
   "source": [
    "## State Definition"
   ]
  },
  {
   "cell_type": "code",
   "execution_count": 7,
   "metadata": {},
   "outputs": [],
   "source": [
    "class State(BaseModel):\n",
    "    state_id: Annotated[int, add]\n",
    "    transcript: str\n",
    "    summarized_transcript : str\n",
    "    prelim_analysis : list\n",
    "    rd_consultation_flag: bool\n",
    "    competitor_analysis_flag : bool\n",
    "    competitors : list\n",
    "    orchestrated_article_type : str\n",
    "    orchestrated_article : str\n",
    "    customer_reachout_trigger : str\n",
    "    sales_summary_snapshot : str\n",
    "    sales_database_update_flag : str\n",
    "    "
   ]
  },
  {
   "cell_type": "markdown",
   "metadata": {},
   "source": [
    "## Nodes Declaration"
   ]
  },
  {
   "cell_type": "code",
   "execution_count": 24,
   "metadata": {},
   "outputs": [
    {
     "data": {
      "text/plain": [
       "AIMessage(content='Please provide the transcript. I need the text of the sales call to create the summary you requested.  Once you provide the transcript, I will generate a detailed summary following your specifications.', additional_kwargs={}, response_metadata={'prompt_feedback': {'block_reason': 0, 'safety_ratings': []}, 'finish_reason': 'STOP', 'model_name': 'gemini-1.5-flash-latest', 'safety_ratings': []}, id='run-83bec373-0fad-4433-be13-0f9c15e8d36a-0', usage_metadata={'input_tokens': 191, 'output_tokens': 38, 'total_tokens': 229, 'input_token_details': {'cache_read': 0}})"
      ]
     },
     "execution_count": 24,
     "metadata": {},
     "output_type": "execute_result"
    }
   ],
   "source": [
    "call_transcript_prompt = ChatPromptTemplate.from_template( \n",
    "    \"\"\"\n",
    "        Please provide a detailed summary of this sales call transcript.\n",
    "        Focus on capturing:\n",
    "            - Who was involved in the call (names and companies)\n",
    "            - The customer's specific needs and pain points\n",
    "            - Key product/service features discussed\n",
    "            - Any technical requirements mentioned\n",
    "            - Agreed next steps and deliverables\n",
    "    \n",
    "        Keep the summary factual and objective. Do not include:\n",
    "            - Greetings and casual conversation\n",
    "            - Repeated information\n",
    "            - Your own analysis or recommendations\n",
    "\n",
    "        Make sure to include content that will include\n",
    "            - Competitors and how they failed delivering the feature\n",
    "            - Topics, Areas and Key Words that will help the company to recommend or send customer ROIs and articles\n",
    "            - The customer's specific \n",
    "    \n",
    "        Present the information in a clear, structured format while maintaining important context and details from the conversation.\n",
    "\n",
    "    Transcript:\n",
    "    {transcript}\n",
    "    \"\"\"\n",
    "    )\n",
    "prompt = \"\"\"\n",
    "        Please provide a detailed summary of this sales call transcript.\n",
    "        Focus on capturing:\n",
    "            - Who was involved in the call (names and companies)\n",
    "            - The customer's specific needs and pain points\n",
    "            - Key product/service features discussed\n",
    "            - Any technical requirements mentioned\n",
    "            - Agreed next steps and deliverables\n",
    "    \n",
    "        Keep the summary factual and objective. Do not include:\n",
    "            - Greetings and casual conversation\n",
    "            - Repeated information\n",
    "            - Your own analysis or recommendations\n",
    "\n",
    "        Make sure to include content that will include\n",
    "            - Competitors and how they failed delivering the feature\n",
    "            - Topics, Areas and Key Words that will help the company to recommend or send customer ROIs and articles\n",
    "            - The customer's specific \n",
    "    \n",
    "        Present the information in a clear, structured format while maintaining important context and details from the conversation.\n",
    "\n",
    "    Transcript:\n",
    "    {transcript}\n",
    "    \"\"\"\n",
    "response = google_gemini_llm.invoke(prompt)\n",
    "response"
   ]
  },
  {
   "cell_type": "code",
   "execution_count": 60,
   "metadata": {},
   "outputs": [],
   "source": [
    "def call_transcript_summarization(state: dict) -> State:\n",
    "    \"\"\"Takes raw call transcript and generates structured summary\"\"\"\n",
    "    call_transcript_prompt = ChatPromptTemplate.from_template( \n",
    "    \"\"\"\n",
    "        Please provide a detailed summary of this sales call transcript.\n",
    "        Focus on capturing:\n",
    "            - Who was involved in the call (names and companies)\n",
    "            - The customer's specific needs and pain points\n",
    "            - Key product/service features discussed\n",
    "            - Any technical requirements mentioned\n",
    "            - Agreed next steps and deliverables\n",
    "    \n",
    "        Keep the summary factual and objective. Do not include:\n",
    "            - Greetings and casual conversation\n",
    "            - Repeated information\n",
    "            - Your own analysis or recommendations\n",
    "\n",
    "        Make sure to include content that will include\n",
    "            - Competitors and how they failed delivering the feature\n",
    "            - Topics, Areas and Key Words that will help the company to recommend or send customer ROIs and articles\n",
    "            - The customer's specific \n",
    "    \n",
    "        Present the information in a clear, structured format while maintaining important context and details from the conversation.\n",
    "\n",
    "    Transcript:\n",
    "    {transcript}\n",
    "    \"\"\"\n",
    "    )\n",
    "    response = google_gemini_llm.invoke(call_transcript_prompt)\n",
    "    \n",
    "    return { \"summarized_transcript\" : [state['transcript'] + 1] } \n",
    "\n",
    "\n",
    "\n",
    "\n",
    "\n",
    "def followup_call_feedback(state: dict) -> State:\n",
    "    \"\"\"Creates follow-up action items based on call analysis\"\"\"\n",
    "    return state\n",
    "\n",
    "def llm_tool_calling(state: dict) -> State:\n",
    "    \"\"\"Creates follow-up action items based on call analysis\"\"\"\n",
    "    return state\n",
    "\n",
    "def sales_summary_snapshot(state: dict) -> State:\n",
    "    \"\"\"Creates follow-up action items based on call analysis\"\"\"\n",
    "    return state\n",
    "\n",
    "def preliminary_analysis(state: dict) -> State:\n",
    "    \"\"\"Performs initial sentiment/needs assessment\"\"\"\n",
    "    return { \"transcript\" : [state['transcript'] + 1] }  \n",
    "\n",
    "def competitor_analysis(state: dict) -> State:\n",
    "    \"\"\"Identifies and analyzes competitor mentions in transcript\"\"\"\n",
    "    return { \"transcript\" : [state['transcript'] + 1] } \n",
    "\n",
    "def customer_roi_article_generation(state: dict) -> State:\n",
    "    \"\"\"Generates personalized ROI content for the customer\"\"\"\n",
    "    return state\n",
    "\n",
    "def rnd_consultation_assessment_trigger(state: dict) -> State:\n",
    "    \"\"\"Determines if technical consultation is needed\"\"\"\n",
    "    return state\n",
    "\n",
    "def orchestrator_node(state: dict) -> State:\n",
    "    \"\"\"Combines all insights and coordinates final outputs\"\"\"\n",
    "    return state\n",
    "\n",
    "def customer_reachout_node(state: dict) -> State:\n",
    "    \"\"\"Prepares final customer outreach materials\"\"\"\n",
    "    return state\n",
    "\n",
    "def sales_database_update(state: dict) -> State:\n",
    "    \"\"\"Prepares final customer outreach materials\"\"\"\n",
    "    return state"
   ]
  },
  {
   "cell_type": "markdown",
   "metadata": {},
   "source": [
    "## Graph"
   ]
  },
  {
   "cell_type": "code",
   "execution_count": 86,
   "metadata": {},
   "outputs": [
    {
     "data": {
      "image/jpeg": "[encoded data removed]",
      "text/plain": [
       "<IPython.core.display.Image object>"
      ]
     },
     "metadata": {},
     "output_type": "display_data"
    }
   ],
   "source": [
    "graph_builder  = StateGraph(State)\n",
    "\n",
    "# Nodes\n",
    "graph_builder.add_node('Call Transcript & Preliminary Analysis', call_transcript_summarization)\n",
    "graph_builder.add_node('Follow-up Call Feedback', followup_call_feedback)\n",
    "graph_builder.add_node('LLM Decision Node', llm_tool_calling)\n",
    "\n",
    "\n",
    "\n",
    "graph_builder.add_node('Competitor Analysis', competitor_analysis)\n",
    "graph_builder.add_node('Customer ROI Article Generation', customer_roi_article_generation)\n",
    "graph_builder.add_node('R&D Consultation and Assessment Trigger', rnd_consultation_assessment_trigger)\n",
    "graph_builder.add_node('Orchestrator Node', orchestrator_node)\n",
    "graph_builder.add_node('Sales Summary Snapshot', sales_summary_snapshot)\n",
    "graph_builder.add_node('Customer Reachout Node', customer_reachout_node)\n",
    "\n",
    "graph_builder.add_node('Sales Database Update', sales_database_update)\n",
    "\n",
    "# Edges\n",
    "graph_builder.add_edge('Call Transcript & Preliminary Analysis', 'LLM Decision Node')\n",
    "graph_builder.add_edge('Call Transcript & Preliminary Analysis', 'Follow-up Call Feedback')\n",
    "graph_builder.add_edge('Follow-up Call Feedback', 'Call Transcript & Preliminary Analysis')\n",
    "\n",
    "graph_builder.add_conditional_edges( \"LLM Decision Node\",\n",
    "                                     llm_tool_calling, {\n",
    "                                         \"R&D Consultation and Assessment Trigger\" : \"R&D Consultation and Assessment Trigger\",\n",
    "                                         \"Customer ROI Article Generation\" : \"Customer ROI Article Generation\",\n",
    "                                         \"Competitor Analysis\" : \"Competitor Analysis\"\n",
    "                                         \n",
    "}\n",
    ")\n",
    "\n",
    "\n",
    "\n",
    "graph_builder.add_edge('Competitor Analysis', 'Orchestrator Node')\n",
    "graph_builder.add_edge('Customer ROI Article Generation', 'Orchestrator Node')\n",
    "graph_builder.add_edge('R&D Consultation and Assessment Trigger', 'Orchestrator Node')\n",
    "graph_builder.add_edge('Orchestrator Node', 'Customer Reachout Node')\n",
    "graph_builder.add_edge('Orchestrator Node', 'Sales Summary Snapshot')\n",
    "\n",
    "graph_builder.add_edge('Customer Reachout Node', 'Sales Database Update')\n",
    "graph_builder.add_edge('Sales Summary Snapshot', 'Sales Database Update')\n",
    "\n",
    "# Set entry and exit points\n",
    "graph_builder.set_entry_point('Call Transcript & Preliminary Analysis')\n",
    "graph_builder.set_finish_point('Sales Database Update')\n",
    "\n",
    "# Compile the graph\n",
    "react_graph = graph_builder.compile()\n",
    "display(Image(react_graph.get_graph(xray=True).draw_mermaid_png()))"
   ]
  },
  {
   "cell_type": "code",
   "execution_count": null,
   "metadata": {},
   "outputs": [],
   "source": []
  },
  {
   "cell_type": "code",
   "execution_count": null,
   "metadata": {},
   "outputs": [],
   "source": []
  }
 ],
 "metadata": {
  "kernelspec": {
   "display_name": "Python 3 (ipykernel)",
   "language": "python",
   "name": "python3"
  },
  "language_info": {
   "codemirror_mode": {
    "name": "ipython",
    "version": 3
   },
   "file_extension": ".py",
   "mimetype": "text/x-python",
   "name": "python",
   "nbconvert_exporter": "python",
   "pygments_lexer": "ipython3",
   "version": "3.12.7"
  }
 },
 "nbformat": 4,
 "nbformat_minor": 4
}
